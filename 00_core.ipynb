{
 "cells": [
  {
   "cell_type": "code",
   "execution_count": null,
   "metadata": {},
   "outputs": [],
   "source": [
    "# default_exp core"
   ]
  },
  {
   "cell_type": "markdown",
   "metadata": {},
   "source": [
    "# module name here\n",
    "\n",
    "> API details."
   ]
  },
  {
   "cell_type": "code",
   "execution_count": null,
   "metadata": {},
   "outputs": [],
   "source": [
    "#hide\n",
    "from nbdev.showdoc import *"
   ]
  },
  {
   "cell_type": "code",
   "execution_count": null,
   "metadata": {},
   "outputs": [],
   "source": [
    "#hide\n",
    "def test_eq(a,b): assert a==b, f'{a}, {b}'"
   ]
  },
  {
   "cell_type": "code",
   "execution_count": null,
   "metadata": {},
   "outputs": [
    {
     "name": "stdout",
     "output_type": "stream",
     "text": [
      "--2020-07-05 15:47:39--  https://message-from-space.readthedocs.io/en/latest/_downloads/822b494d13eb35a97f159e041a004fa9/radio-transmission-recording.wav\n",
      "Resolving message-from-space.readthedocs.io (message-from-space.readthedocs.io)... 104.17.33.82, 104.17.32.82\n",
      "Connecting to message-from-space.readthedocs.io (message-from-space.readthedocs.io)|104.17.33.82|:443... connected.\n",
      "HTTP request sent, awaiting response... 200 OK\n",
      "Length: 5450806 (5.2M) [audio/x-wav]\n",
      "Saving to: ‘message_1.wav’\n",
      "\n",
      "message_1.wav       100%[===================>]   5.20M  8.49MB/s    in 0.6s    \n",
      "\n",
      "2020-07-05 15:47:40 (8.49 MB/s) - ‘message_1.wav’ saved [5450806/5450806]\n",
      "\n"
     ]
    }
   ],
   "source": [
    "uri = ('https://message-from-space.readthedocs.io/en/latest/_downloads' + \n",
    "      '/822b494d13eb35a97f159e041a004fa9/radio-transmission-recording.wav'\n",
    ")\n",
    "target = 'message_1.wav'\n",
    "!wget {uri} -O {target}"
   ]
  },
  {
   "cell_type": "code",
   "execution_count": null,
   "metadata": {},
   "outputs": [],
   "source": [
    "!"
   ]
  }
 ],
 "metadata": {
  "kernelspec": {
   "display_name": "Python 3",
   "language": "python",
   "name": "python3"
  }
 },
 "nbformat": 4,
 "nbformat_minor": 2
}
